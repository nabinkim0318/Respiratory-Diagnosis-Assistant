{
 "cells": [
  {
   "cell_type": "code",
   "execution_count": null,
   "metadata": {},
   "outputs": [],
   "source": [
    "pip install pymongo django django.http django.db"
   ]
  },
  {
   "cell_type": "markdown",
   "metadata": {},
   "source": [
    "**Predict and Similiarity score using audio input**"
   ]
  },
  {
   "cell_type": "markdown",
   "metadata": {},
   "source": [
    "views.py"
   ]
  },
  {
   "cell_type": "code",
   "execution_count": null,
   "metadata": {},
   "outputs": [],
   "source": [
    "from django.http import JsonResponse\n",
    "from .audio_utils import preprocess_audio, predict_from_features\n",
    "from keras.models import load_model\n",
    "\n",
    "# Load the model on startup\n",
    "model = load_model('my_model.keras')\n",
    "\n",
    "def predict_disease(request):\n",
    "    if request.method == 'POST':\n",
    "        audio_file = request.FILES.get('audio', None)\n",
    "        if audio_file:\n",
    "            try:\n",
    "                features = preprocess_audio(audio_file)\n",
    "                predictions = predict_from_features(model, features)\n",
    "                return JsonResponse({'predictions': predictions.tolist()}, status=200)\n",
    "            except Exception as e:\n",
    "                return JsonResponse({'error': str(e)}, status=500)\n",
    "        else:\n",
    "            return JsonResponse({'error': 'No audio file provided'}, status=400)\n",
    "    else:\n",
    "        return JsonResponse({'error': 'Invalid request method'}, status=405)"
   ]
  },
  {
   "cell_type": "markdown",
   "metadata": {},
   "source": [
    "audio_utils.py"
   ]
  },
  {
   "cell_type": "code",
   "execution_count": null,
   "metadata": {},
   "outputs": [],
   "source": [
    "import librosa\n",
    "import numpy as np\n",
    "import noisereduce as nr\n",
    "\n",
    "def preprocess_audio(audio_file):\n",
    "    audio, sr = librosa.load(audio_file, sr=None)\n",
    "    audio = nr.reduce_noise(y=audio, sr=sr)\n",
    "    audio = librosa.util.normalize(audio)\n",
    "    mfccs = librosa.feature.mfcc(y=audio, sr=sr, n_mfcc=13)\n",
    "    mfccs = np.mean(mfccs.T, axis=0)\n",
    "    return mfccs\n",
    "\n",
    "def predict_from_features(model, features):\n",
    "    return model.predict(np.array([features]))"
   ]
  },
  {
   "cell_type": "markdown",
   "metadata": {},
   "source": [
    "urls.py"
   ]
  },
  {
   "cell_type": "code",
   "execution_count": null,
   "metadata": {},
   "outputs": [],
   "source": [
    "from django.urls import path\n",
    "from . import views\n",
    "\n",
    "urlpatterns = [\n",
    "    path('predict/', views.predict_disease, name='predict_disease'),\n",
    "]"
   ]
  },
  {
   "cell_type": "code",
   "execution_count": null,
   "metadata": {},
   "outputs": [],
   "source": [
    "from django.conf import settings\n",
    "from django.conf.urls.static import static\n",
    "\n",
    "urlpatterns += static(settings.MEDIA_URL, document_root=settings.MEDIA_ROOT)"
   ]
  },
  {
   "cell_type": "markdown",
   "metadata": {},
   "source": [
    "settings.py"
   ]
  },
  {
   "cell_type": "code",
   "execution_count": null,
   "metadata": {},
   "outputs": [],
   "source": [
    "MEDIA_URL = '/media/'\n",
    "MEDIA_ROOT = os.path.join(BASE_DIR, 'media')"
   ]
  },
  {
   "cell_type": "markdown",
   "metadata": {},
   "source": [
    "**Incremental Learning Prep**"
   ]
  },
  {
   "cell_type": "code",
   "execution_count": null,
   "metadata": {},
   "outputs": [],
   "source": [
    "from pymongo import MongoClient\n",
    "import librosa\n",
    "\n",
    "# Connect to MongoDB\n",
    "client = MongoClient('mongodb_uri')\n",
    "db = client.respiratory_diseases\n",
    "audio_collection = db.audio_data\n",
    "\n",
    "def store_audio_data(audio_file, patient_info, annotations):\n",
    "    audio, sr = librosa.load(audio_file, sr=None)\n",
    "    audio_features = extract_features(audio, sr)\n",
    "    \n",
    "    # Create a document to store in MongoDB\n",
    "    document = {\n",
    "        'patient_id': patient_info['patient_id'],\n",
    "        'audio_features': audio_features,\n",
    "        'annotations': annotations\n",
    "    }\n",
    "    \n",
    "    # Insert document into MongoDB\n",
    "    audio_collection.insert_one(document)\n",
    "\n",
    "def extract_features(audio, sr):\n",
    "    # Implement feature extraction, e.g., MFCCs\n",
    "    mfccs = librosa.feature.mfcc(audio, sr=sr)\n",
    "    return mfccs.tolist()  # Convert to list for MongoDB compatibility\n",
    "\n",
    "# Example usage\n",
    "audio_file = 'path_to_audio_file.wav'\n",
    "patient_info = {'patient_id': 101}\n",
    "annotations = {'crackles': 0, 'wheezes': 1}\n",
    "store_audio_data(audio_file, patient_info, annotations)"
   ]
  },
  {
   "cell_type": "markdown",
   "metadata": {},
   "source": [
    "**MongoDB**  "
   ]
  },
  {
   "cell_type": "markdown",
   "metadata": {},
   "source": [
    "Database Schema Design"
   ]
  },
  {
   "cell_type": "markdown",
   "metadata": {},
   "source": [
    "**Patients**\n",
    "\n",
    "**AudioRecordings**\n",
    "\n",
    "**Annotations**\n",
    "\n",
    "**Diagnoses**"
   ]
  },
  {
   "cell_type": "markdown",
   "metadata": {},
   "source": [
    "*Patients Collection*\n",
    "\n",
    "This collection stores demographic information. Each document in the collection might look like this:"
   ]
  },
  {
   "cell_type": "code",
   "execution_count": null,
   "metadata": {},
   "outputs": [],
   "source": [
    "{\n",
    "  \"_id\": ObjectId(\"...\"),\n",
    "  \"patientNumber\": 101,\n",
    "  \"age\": 45,\n",
    "  \"sex\": \"Male\",\n",
    "  \"bmi\": 22.5,\n",
    "  \"childWeight\": null,\n",
    "  \"childHeight\": null\n",
    "}"
   ]
  },
  {
   "cell_type": "markdown",
   "metadata": {},
   "source": [
    "*AudioRecordings Collection*\n",
    "\n",
    "This collection stores references to audio files along with metadata from the filename parsing:"
   ]
  },
  {
   "cell_type": "code",
   "execution_count": null,
   "metadata": {},
   "outputs": [],
   "source": [
    "{\n",
    "  \"_id\": ObjectId(\"...\"),\n",
    "  \"patientNumber\": 101,\n",
    "  \"recordingIndex\": 1,\n",
    "  \"chestLocation\": \"Trachea\",\n",
    "  \"acquisitionMode\": \"sc\",\n",
    "  \"recordingEquipment\": \"AKGC417L\",\n",
    "  \"filePath\": \"path/to/audio/file.wav\"\n",
    "}"
   ]
  },
  {
   "cell_type": "markdown",
   "metadata": {},
   "source": [
    "*Annotations Collection*\n",
    "\n",
    "Stores details about the respiratory cycle and presence of crackles or wheezes:"
   ]
  },
  {
   "cell_type": "code",
   "execution_count": null,
   "metadata": {},
   "outputs": [],
   "source": [
    "{\n",
    "  \"_id\": ObjectId(\"...\"),\n",
    "  \"audioRecordingId\": ObjectId(\"reference to AudioRecordings\"),\n",
    "  \"beginCycle\": 0.5,\n",
    "  \"endCycle\": 2.5,\n",
    "  \"crackles\": 1,\n",
    "  \"wheezes\": 0\n",
    "}"
   ]
  },
  {
   "cell_type": "markdown",
   "metadata": {},
   "source": [
    "*Diagnoses Collection*\n",
    "\n",
    "Stores the diagnosed conditions for patients:"
   ]
  },
  {
   "cell_type": "code",
   "execution_count": null,
   "metadata": {},
   "outputs": [],
   "source": [
    "{\n",
    "  \"_id\": ObjectId(\"...\"),\n",
    "  \"patientNumber\": 101,\n",
    "  \"diagnosis\": [\"COPD\"]\n",
    "}"
   ]
  },
  {
   "cell_type": "markdown",
   "metadata": {},
   "source": [
    "**Indexing**\n",
    "\n",
    "Create indexes on frequently queried fields to improve performance:"
   ]
  },
  {
   "cell_type": "markdown",
   "metadata": {},
   "source": [
    "Patients: *patientNumber*\n",
    "\n",
    "AudioRecordings: Composite index on *patientNumber*, *chestLocation*\n",
    "\n",
    "Annotations: *audioRecordingId*\n",
    "\n",
    "Diagnoses: *patientNumber*"
   ]
  },
  {
   "cell_type": "markdown",
   "metadata": {},
   "source": [
    "Setting up"
   ]
  },
  {
   "cell_type": "code",
   "execution_count": null,
   "metadata": {},
   "outputs": [],
   "source": [
    "pip install djongo"
   ]
  },
  {
   "cell_type": "markdown",
   "metadata": {},
   "source": [
    "settings.py"
   ]
  },
  {
   "cell_type": "code",
   "execution_count": null,
   "metadata": {},
   "outputs": [],
   "source": [
    "DATABASES = {\n",
    "    'default': {\n",
    "        'ENGINE': 'djongo',\n",
    "        'NAME': 'your_database_name',   # Name of your MongoDB database\n",
    "        'ENFORCE_SCHEMA': False,  # Djongo specific option to not enforce Django schema on MongoDB\n",
    "        'CLIENT': {\n",
    "            'host': 'mongodb://localhost:27017',  # URL to your MongoDB server\n",
    "            'username': 'your_username',  # MongoDB username (if authentication is enabled)\n",
    "            'password': 'your_password',  # MongoDB password\n",
    "            'authMechanism': 'SCRAM-SHA-1'  # Authentication mechanism (e.g., SCRAM-SHA-1, SCRAM-SHA-256)\n",
    "        }\n",
    "    }\n",
    "}"
   ]
  },
  {
   "cell_type": "markdown",
   "metadata": {},
   "source": [
    "**Migrations**"
   ]
  },
  {
   "cell_type": "code",
   "execution_count": null,
   "metadata": {},
   "outputs": [],
   "source": [
    "python manage.py makemigrations\n",
    "python manage.py migrate"
   ]
  },
  {
   "cell_type": "markdown",
   "metadata": {},
   "source": [
    "Check"
   ]
  },
  {
   "cell_type": "code",
   "execution_count": null,
   "metadata": {},
   "outputs": [],
   "source": [
    "python manage.py runserver"
   ]
  }
 ],
 "metadata": {
  "kernelspec": {
   "display_name": "ml_hw4",
   "language": "python",
   "name": "python3"
  },
  "language_info": {
   "codemirror_mode": {
    "name": "ipython",
    "version": 3
   },
   "file_extension": ".py",
   "mimetype": "text/x-python",
   "name": "python",
   "nbconvert_exporter": "python",
   "pygments_lexer": "ipython3",
   "version": "3.11.8"
  }
 },
 "nbformat": 4,
 "nbformat_minor": 2
}
